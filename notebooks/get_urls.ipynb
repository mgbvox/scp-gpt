{
 "cells": [
  {
   "cell_type": "code",
   "execution_count": 29,
   "id": "5918a8b8-09b6-49ca-a022-07bb4e90eff5",
   "metadata": {},
   "outputs": [],
   "source": [
    "import requests\n",
    "from bs4 import BeautifulSoup\n",
    "import urllib\n",
    "from tqdm import tqdm"
   ]
  },
  {
   "cell_type": "code",
   "execution_count": null,
   "id": "ce69cd84-3271-40cb-b9ce-187ecafe8ecc",
   "metadata": {},
   "outputs": [],
   "source": []
  },
  {
   "cell_type": "code",
   "execution_count": 36,
   "id": "96f1a5e2-f95f-46c0-a238-8bfb42985be7",
   "metadata": {},
   "outputs": [
    {
     "name": "stderr",
     "output_type": "stream",
     "text": [
      "100%|███████████████████████████████████████████████████████████████████████████████████████████████████████████████████████████████| 1013/1013 [00:00<00:00, 254131.82it/s]\n",
      "100%|███████████████████████████████████████████████████████████████████████████████████████████████████████████████████████████████| 1014/1014 [00:00<00:00, 227094.42it/s]\n",
      "100%|███████████████████████████████████████████████████████████████████████████████████████████████████████████████████████████████| 1014/1014 [00:00<00:00, 239661.01it/s]\n",
      "100%|███████████████████████████████████████████████████████████████████████████████████████████████████████████████████████████████| 1014/1014 [00:00<00:00, 201593.79it/s]\n"
     ]
    }
   ],
   "source": [
    "base_url = 'https://scp-wiki.wikidot.com'\n",
    "scps = []\n",
    "for i in range(1,5):\n",
    "    ext = ''\n",
    "    if i>1:\n",
    "        ext += f'-{i}'\n",
    "    url = f'{base_url}/scp-series{ext}'\n",
    "    scp_generation_page = BeautifulSoup(requests.get(url).text)\n",
    "    for a in tqdm(scp_generation_page.select('.series ul li a')):\n",
    "\n",
    "        link_text = a.text\n",
    "        href = a.get('href')\n",
    "        link_has_content = '[ACCESS DENIED]' not in link_text\n",
    "        \n",
    "        if href and href.startswith('/scp') and link_has_content:\n",
    "            scp_url = base_url + href\n",
    "            scps.append(scp_url)"
   ]
  },
  {
   "cell_type": "code",
   "execution_count": 38,
   "id": "2a17fa9f-7656-40f6-963f-a762ce6f6568",
   "metadata": {},
   "outputs": [],
   "source": [
    "with open('../scp_links.txt', 'w') as f:\n",
    "    f.writelines(scps)"
   ]
  },
  {
   "cell_type": "code",
   "execution_count": 39,
   "id": "3929a7cb-8a1e-483f-9f04-724b3fc881ad",
   "metadata": {},
   "outputs": [],
   "source": [
    "import regex as re"
   ]
  },
  {
   "cell_type": "code",
   "execution_count": 42,
   "id": "c3345c88-26e6-43e9-b11b-a025e12bcde0",
   "metadata": {},
   "outputs": [],
   "source": [
    "href_bad = '/scp-series-5-tales-edition'\n",
    "href_good = '/scp-679'"
   ]
  },
  {
   "cell_type": "code",
   "execution_count": 84,
   "id": "1fbe5156-a418-4e23-9419-4e3b3f1e26c4",
   "metadata": {},
   "outputs": [],
   "source": [
    "SCP_URL_PATTERN: str = re.compile(r'http(s*).*/scp-\\d{1,}$')\n",
    "u = 'https://scp-wiki.wikidot.com/scp-001'\n",
    "m = re.search(SCP_URL_PATTERN, u)"
   ]
  },
  {
   "cell_type": "code",
   "execution_count": 85,
   "id": "f8e89244-ec6a-428b-be56-117d48f51951",
   "metadata": {},
   "outputs": [
    {
     "data": {
      "text/plain": [
       "'https://scp-wiki.wikidot.com/scp-001'"
      ]
     },
     "execution_count": 85,
     "metadata": {},
     "output_type": "execute_result"
    }
   ],
   "source": [
    "m.string"
   ]
  },
  {
   "cell_type": "code",
   "execution_count": 76,
   "id": "45812550-dacc-401a-86a8-278b0b942f27",
   "metadata": {},
   "outputs": [
    {
     "data": {
      "text/plain": [
       "'https://scp-wiki.wikidot.com/scp-001'"
      ]
     },
     "execution_count": 76,
     "metadata": {},
     "output_type": "execute_result"
    }
   ],
   "source": [
    "u"
   ]
  },
  {
   "cell_type": "code",
   "execution_count": 81,
   "id": "9c74539c-6553-40a4-9727-f68ac72827dd",
   "metadata": {},
   "outputs": [],
   "source": [
    "SCP_NUMBER_PATTERN = re.compile(r'(\\d{1,})$')"
   ]
  },
  {
   "cell_type": "code",
   "execution_count": 91,
   "id": "4d77c286-7854-4cd7-9284-e49d5b365e25",
   "metadata": {},
   "outputs": [
    {
     "data": {
      "text/plain": [
       "'001'"
      ]
     },
     "execution_count": 91,
     "metadata": {},
     "output_type": "execute_result"
    }
   ],
   "source": [
    "re.search(SCP_NUMBER_PATTERN, u).group(1)"
   ]
  },
  {
   "cell_type": "code",
   "execution_count": 94,
   "id": "27104e13-f810-47d9-bb67-1ad1b1d2c7b9",
   "metadata": {},
   "outputs": [
    {
     "ename": "ValueError",
     "evalue": "invalid literal for int() with base 10: '0q1'",
     "output_type": "error",
     "traceback": [
      "\u001b[0;31m---------------------------------------------------------------------------\u001b[0m",
      "\u001b[0;31mValueError\u001b[0m                                Traceback (most recent call last)",
      "\u001b[0;32m/var/folders/4t/59jpf8r53sz05k7d2zhkdcz00000gn/T/ipykernel_80961/362793950.py\u001b[0m in \u001b[0;36m<module>\u001b[0;34m\u001b[0m\n\u001b[0;32m----> 1\u001b[0;31m \u001b[0mint\u001b[0m\u001b[0;34m(\u001b[0m\u001b[0;34m'0q1'\u001b[0m\u001b[0;34m)\u001b[0m\u001b[0;34m\u001b[0m\u001b[0;34m\u001b[0m\u001b[0m\n\u001b[0m",
      "\u001b[0;31mValueError\u001b[0m: invalid literal for int() with base 10: '0q1'"
     ]
    }
   ],
   "source": [
    "int('0q1')"
   ]
  },
  {
   "cell_type": "code",
   "execution_count": null,
   "id": "532a08ab-f989-45b9-83c7-32061361783e",
   "metadata": {},
   "outputs": [],
   "source": []
  }
 ],
 "metadata": {
  "kernelspec": {
   "display_name": "Python 3 (ipykernel)",
   "language": "python",
   "name": "python3"
  },
  "language_info": {
   "codemirror_mode": {
    "name": "ipython",
    "version": 3
   },
   "file_extension": ".py",
   "mimetype": "text/x-python",
   "name": "python",
   "nbconvert_exporter": "python",
   "pygments_lexer": "ipython3",
   "version": "3.9.6"
  }
 },
 "nbformat": 4,
 "nbformat_minor": 5
}
